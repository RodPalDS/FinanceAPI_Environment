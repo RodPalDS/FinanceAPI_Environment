{
 "cells": [
  {
   "cell_type": "markdown",
   "metadata": {},
   "source": [
    "# Finance Notebook\n",
    "Construcción de una aplicación para el manejo automatizado de un portafolio financiero."
   ]
  },
  {
   "cell_type": "markdown",
   "metadata": {},
   "source": [
    "##### Librerías"
   ]
  },
  {
   "cell_type": "code",
   "execution_count": 2,
   "metadata": {},
   "outputs": [],
   "source": [
    "import numpy as np\n",
    "import pandas as pd\n",
    "import seaborn as sns\n",
    "import matplotlib.pyplot as plt\n",
    "import yfinance as yf"
   ]
  },
  {
   "cell_type": "markdown",
   "metadata": {},
   "source": [
    "##### Clase Portafolio:"
   ]
  },
  {
   "cell_type": "code",
   "execution_count": 2,
   "metadata": {},
   "outputs": [],
   "source": [
    "class Portfolio:\n",
    "\n",
    "    # método de iniciación de la clase, que da ingreso de los inputs, como nombre del portfolio\n",
    "    def __init__(self, inputs):\n",
    "        self.inputs = inputs\n",
    "        p_name = self.name['portfolio_name']\n",
    "        print(f'Portfolio {p_name} activo')\n",
    "\n",
    "    # descripción de la clase\n",
    "    def __repr__(self):\n",
    "        return 'Aplicación de manipulación de Portfolio de activos financieros'\n",
    "\n",
    "    # muestra lista de los ticks del portfolio\n",
    "    def show_ticks(self):\n",
    "        for i in range(len(self.inputs['ticks'])):\n",
    "            tick_name = self.inputs['ticks'][i]\n",
    "            print(f'{i+1} --> {tick_name}')\n"
   ]
  },
  {
   "cell_type": "markdown",
   "metadata": {},
   "source": [
    "##### Cración de Portfolio y elección de activos"
   ]
  },
  {
   "cell_type": "code",
   "execution_count": null,
   "metadata": {},
   "outputs": [],
   "source": [
    "# Portafolio formado por la lista de startups más prometedoras en 2022, elaborado por LikedIn. Más detalles en https://www.linkedin.com/pulse/linkedin-top-startups-2022-las-10-empresas--1c/?originalSubdomain=es .\n",
    "\n",
    "# ingreso = {\n",
    "#    'portfolio_name' : 'Portafolio de Startups LikedIn 2022',\n",
    "#    'ticks' : ['^MERV', 'MELI', ]\n",
    "#}\n",
    "\n",
    "# Portfolio formado por las 5 mejores empresas argentinas que cotizan en bolsa: https://www.cronista.com/finanzas-mercados/que-acciones-argentinas-rindieron-de-mejor-a-peor-en-2022/\n",
    "# https://finance.yahoo.com/quote/COME.BA?p=COME.BA&.tsrc=fin-srch\n",
    "# https://finance.yahoo.com/quote/VALO.BA?p=VALO.BA&.tsrc=fin-srch\n",
    "# https://finance.yahoo.com/quote/TGSU2.BA?p=TGSU2.BA&.tsrc=fin-srch\n",
    "# https://finance.yahoo.com/quote/CRES.BA?p=CRES.BA&.tsrc=fin-srch\n",
    "# https://finance.yahoo.com/quote/CEPU.BA?p=CEPU.BA&.tsrc=fin-srch\n",
    "\n",
    "ingreso = {\n",
    "    'portfolio_name' : 'Portafolio MERVAL',\n",
    "    'ticks' : ['^MERV', 'COME.BA', 'VALO.BA', 'TGSU2.BA', 'CRES.BA', 'CEPU.BA']"
   ]
  },
  {
   "cell_type": "markdown",
   "metadata": {},
   "source": []
  }
 ],
 "metadata": {
  "kernelspec": {
   "display_name": "Python 3.10.8 64-bit",
   "language": "python",
   "name": "python3"
  },
  "language_info": {
   "codemirror_mode": {
    "name": "ipython",
    "version": 3
   },
   "file_extension": ".py",
   "mimetype": "text/x-python",
   "name": "python",
   "nbconvert_exporter": "python",
   "pygments_lexer": "ipython3",
   "version": "3.10.8"
  },
  "orig_nbformat": 4,
  "vscode": {
   "interpreter": {
    "hash": "fb4569285eef3a3450cb62085a5b1e0da4bce0af555edc33dcf29baf3acc1368"
   }
  }
 },
 "nbformat": 4,
 "nbformat_minor": 2
}
