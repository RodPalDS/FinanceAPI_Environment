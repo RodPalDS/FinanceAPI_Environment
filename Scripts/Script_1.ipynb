{
 "cells": [
  {
   "cell_type": "markdown",
   "metadata": {},
   "source": [
    "# Finance Notebook\n",
    "Construcción de una aplicación para el manejo automatizado de un portafolio financiero."
   ]
  },
  {
   "cell_type": "markdown",
   "metadata": {},
   "source": [
    "##### Librerías"
   ]
  },
  {
   "cell_type": "code",
   "execution_count": 1,
   "metadata": {},
   "outputs": [],
   "source": [
    "import numpy as np\n",
    "import pandas as pd\n",
    "import seaborn as sns\n",
    "import matplotlib.pyplot as plt\n",
    "import yfinance as yf"
   ]
  },
  {
   "cell_type": "markdown",
   "metadata": {},
   "source": [
    "##### Clase Portafolio:"
   ]
  },
  {
   "cell_type": "code",
   "execution_count": 9,
   "metadata": {},
   "outputs": [],
   "source": [
    "class Portfolio:\n",
    "\n",
    "    # método de iniciación de la clase, que da ingreso de los inputs, como nombre del portfolio\n",
    "    def __init__(self, inputs):\n",
    "        self.inputs = inputs\n",
    "        p_name = self.inputs['portfolio_name']\n",
    "        print(f'Portfolio: {p_name} activo')\n",
    "\n",
    "    # descripción de la clase\n",
    "    def __repr__(self):\n",
    "        return 'Aplicación de manipulación de Portfolio de activos financieros'\n",
    "\n",
    "    # muestra lista de los ticks del portfolio (los ticks son las  'siglas' de la acción)\n",
    "    def show_ticks(self):\n",
    "        for i in range(len(self.inputs['ticks'])):\n",
    "            tick_name = self.inputs['ticks'][i]\n",
    "            print(f'{i+1} --> {tick_name}')\n"
   ]
  },
  {
   "cell_type": "markdown",
   "metadata": {},
   "source": [
    "### Cración de Portfolio y elección de activos"
   ]
  },
  {
   "cell_type": "code",
   "execution_count": 14,
   "metadata": {},
   "outputs": [],
   "source": [
    "# Portfolio formado por las 5 mejores empresas argentinas que cotizan en bolsa: https://www.cronista.com/finanzas-mercados/que-acciones-argentinas-rindieron-de-mejor-a-peor-en-2022/\n",
    "# https://finance.yahoo.com/quote/COME.BA?p=COME.BA&.tsrc=fin-srch\n",
    "# https://finance.yahoo.com/quote/VALO.BA?p=VALO.BA&.tsrc=fin-srch\n",
    "# https://finance.yahoo.com/quote/TGSU2.BA?p=TGSU2.BA&.tsrc=fin-srch\n",
    "# https://finance.yahoo.com/quote/CRES.BA?p=CRES.BA&.tsrc=fin-srch\n",
    "# https://finance.yahoo.com/quote/CEPU.BA?p=CEPU.BA&.tsrc=fin-srch\n",
    "\n",
    "ingreso = {\n",
    "    'portfolio_name' : 'Accciones de MERVAL',\n",
    "    'ticks' : ['^MERV', 'COME.BA', 'VALO.BA', 'TGSU2.BA', 'CRES.BA', 'CEPU.BA']\n",
    "}"
   ]
  },
  {
   "cell_type": "code",
   "execution_count": 15,
   "metadata": {},
   "outputs": [
    {
     "name": "stdout",
     "output_type": "stream",
     "text": [
      "Portfolio: Accciones de MERVAL activo\n"
     ]
    }
   ],
   "source": [
    "port = Portfolio(ingreso)"
   ]
  },
  {
   "cell_type": "code",
   "execution_count": 16,
   "metadata": {},
   "outputs": [
    {
     "name": "stdout",
     "output_type": "stream",
     "text": [
      "1 --> ^MERV\n",
      "2 --> COME.BA\n",
      "3 --> VALO.BA\n",
      "4 --> TGSU2.BA\n",
      "5 --> CRES.BA\n",
      "6 --> CEPU.BA\n"
     ]
    }
   ],
   "source": [
    "port.show_ticks()"
   ]
  },
  {
   "cell_type": "markdown",
   "metadata": {},
   "source": [
    "### Conexión con APIs de Yahoo Finance:"
   ]
  },
  {
   "cell_type": "code",
   "execution_count": 19,
   "metadata": {},
   "outputs": [
    {
     "data": {
      "text/html": [
       "<div>\n",
       "<style scoped>\n",
       "    .dataframe tbody tr th:only-of-type {\n",
       "        vertical-align: middle;\n",
       "    }\n",
       "\n",
       "    .dataframe tbody tr th {\n",
       "        vertical-align: top;\n",
       "    }\n",
       "\n",
       "    .dataframe thead th {\n",
       "        text-align: right;\n",
       "    }\n",
       "</style>\n",
       "<table border=\"1\" class=\"dataframe\">\n",
       "  <thead>\n",
       "    <tr style=\"text-align: right;\">\n",
       "      <th></th>\n",
       "      <th>Open</th>\n",
       "      <th>High</th>\n",
       "      <th>Low</th>\n",
       "      <th>Close</th>\n",
       "      <th>Volume</th>\n",
       "      <th>Dividends</th>\n",
       "      <th>Stock Splits</th>\n",
       "    </tr>\n",
       "    <tr>\n",
       "      <th>Date</th>\n",
       "      <th></th>\n",
       "      <th></th>\n",
       "      <th></th>\n",
       "      <th></th>\n",
       "      <th></th>\n",
       "      <th></th>\n",
       "      <th></th>\n",
       "    </tr>\n",
       "  </thead>\n",
       "  <tbody>\n",
       "    <tr>\n",
       "      <th>1996-10-08 00:00:00-03:00</th>\n",
       "      <td>579.400024</td>\n",
       "      <td>592.700012</td>\n",
       "      <td>579.400024</td>\n",
       "      <td>590.099976</td>\n",
       "      <td>0</td>\n",
       "      <td>0</td>\n",
       "      <td>0</td>\n",
       "    </tr>\n",
       "    <tr>\n",
       "      <th>1996-10-09 00:00:00-03:00</th>\n",
       "      <td>590.099976</td>\n",
       "      <td>590.799988</td>\n",
       "      <td>582.200012</td>\n",
       "      <td>583.099976</td>\n",
       "      <td>0</td>\n",
       "      <td>0</td>\n",
       "      <td>0</td>\n",
       "    </tr>\n",
       "    <tr>\n",
       "      <th>1996-10-10 00:00:00-03:00</th>\n",
       "      <td>583.200012</td>\n",
       "      <td>584.599976</td>\n",
       "      <td>578.299988</td>\n",
       "      <td>584.599976</td>\n",
       "      <td>0</td>\n",
       "      <td>0</td>\n",
       "      <td>0</td>\n",
       "    </tr>\n",
       "    <tr>\n",
       "      <th>1996-10-11 00:00:00-03:00</th>\n",
       "      <td>584.900024</td>\n",
       "      <td>585.900024</td>\n",
       "      <td>582.400024</td>\n",
       "      <td>584.299988</td>\n",
       "      <td>0</td>\n",
       "      <td>0</td>\n",
       "      <td>0</td>\n",
       "    </tr>\n",
       "    <tr>\n",
       "      <th>1996-10-14 00:00:00-03:00</th>\n",
       "      <td>584.299988</td>\n",
       "      <td>584.299988</td>\n",
       "      <td>580.599976</td>\n",
       "      <td>584.000000</td>\n",
       "      <td>0</td>\n",
       "      <td>0</td>\n",
       "      <td>0</td>\n",
       "    </tr>\n",
       "    <tr>\n",
       "      <th>...</th>\n",
       "      <td>...</td>\n",
       "      <td>...</td>\n",
       "      <td>...</td>\n",
       "      <td>...</td>\n",
       "      <td>...</td>\n",
       "      <td>...</td>\n",
       "      <td>...</td>\n",
       "    </tr>\n",
       "    <tr>\n",
       "      <th>2022-11-04 00:00:00-03:00</th>\n",
       "      <td>150451.000000</td>\n",
       "      <td>152899.703125</td>\n",
       "      <td>150405.203125</td>\n",
       "      <td>151263.296875</td>\n",
       "      <td>0</td>\n",
       "      <td>0</td>\n",
       "      <td>0</td>\n",
       "    </tr>\n",
       "    <tr>\n",
       "      <th>2022-11-07 00:00:00-03:00</th>\n",
       "      <td>151491.703125</td>\n",
       "      <td>153569.593750</td>\n",
       "      <td>147648.000000</td>\n",
       "      <td>147829.593750</td>\n",
       "      <td>0</td>\n",
       "      <td>0</td>\n",
       "      <td>0</td>\n",
       "    </tr>\n",
       "    <tr>\n",
       "      <th>2022-11-08 00:00:00-03:00</th>\n",
       "      <td>147829.593750</td>\n",
       "      <td>150161.203125</td>\n",
       "      <td>145978.593750</td>\n",
       "      <td>147924.000000</td>\n",
       "      <td>0</td>\n",
       "      <td>0</td>\n",
       "      <td>0</td>\n",
       "    </tr>\n",
       "    <tr>\n",
       "      <th>2022-11-09 00:00:00-03:00</th>\n",
       "      <td>148059.796875</td>\n",
       "      <td>148182.296875</td>\n",
       "      <td>142796.593750</td>\n",
       "      <td>143091.500000</td>\n",
       "      <td>0</td>\n",
       "      <td>0</td>\n",
       "      <td>0</td>\n",
       "    </tr>\n",
       "    <tr>\n",
       "      <th>2022-11-10 00:00:00-03:00</th>\n",
       "      <td>143091.500000</td>\n",
       "      <td>147722.796875</td>\n",
       "      <td>143091.500000</td>\n",
       "      <td>144879.093750</td>\n",
       "      <td>0</td>\n",
       "      <td>0</td>\n",
       "      <td>0</td>\n",
       "    </tr>\n",
       "  </tbody>\n",
       "</table>\n",
       "<p>6388 rows × 7 columns</p>\n",
       "</div>"
      ],
      "text/plain": [
       "                                    Open           High            Low  \\\n",
       "Date                                                                     \n",
       "1996-10-08 00:00:00-03:00     579.400024     592.700012     579.400024   \n",
       "1996-10-09 00:00:00-03:00     590.099976     590.799988     582.200012   \n",
       "1996-10-10 00:00:00-03:00     583.200012     584.599976     578.299988   \n",
       "1996-10-11 00:00:00-03:00     584.900024     585.900024     582.400024   \n",
       "1996-10-14 00:00:00-03:00     584.299988     584.299988     580.599976   \n",
       "...                                  ...            ...            ...   \n",
       "2022-11-04 00:00:00-03:00  150451.000000  152899.703125  150405.203125   \n",
       "2022-11-07 00:00:00-03:00  151491.703125  153569.593750  147648.000000   \n",
       "2022-11-08 00:00:00-03:00  147829.593750  150161.203125  145978.593750   \n",
       "2022-11-09 00:00:00-03:00  148059.796875  148182.296875  142796.593750   \n",
       "2022-11-10 00:00:00-03:00  143091.500000  147722.796875  143091.500000   \n",
       "\n",
       "                                   Close  Volume  Dividends  Stock Splits  \n",
       "Date                                                                       \n",
       "1996-10-08 00:00:00-03:00     590.099976       0          0             0  \n",
       "1996-10-09 00:00:00-03:00     583.099976       0          0             0  \n",
       "1996-10-10 00:00:00-03:00     584.599976       0          0             0  \n",
       "1996-10-11 00:00:00-03:00     584.299988       0          0             0  \n",
       "1996-10-14 00:00:00-03:00     584.000000       0          0             0  \n",
       "...                                  ...     ...        ...           ...  \n",
       "2022-11-04 00:00:00-03:00  151263.296875       0          0             0  \n",
       "2022-11-07 00:00:00-03:00  147829.593750       0          0             0  \n",
       "2022-11-08 00:00:00-03:00  147924.000000       0          0             0  \n",
       "2022-11-09 00:00:00-03:00  143091.500000       0          0             0  \n",
       "2022-11-10 00:00:00-03:00  144879.093750       0          0             0  \n",
       "\n",
       "[6388 rows x 7 columns]"
      ]
     },
     "execution_count": 19,
     "metadata": {},
     "output_type": "execute_result"
    }
   ],
   "source": [
    "merval = yf.Ticker('^MERV')\n",
    "merval.history(period='max')"
   ]
  },
  {
   "cell_type": "markdown",
   "metadata": {},
   "source": []
  }
 ],
 "metadata": {
  "kernelspec": {
   "display_name": "Python 3.10.8 64-bit",
   "language": "python",
   "name": "python3"
  },
  "language_info": {
   "codemirror_mode": {
    "name": "ipython",
    "version": 3
   },
   "file_extension": ".py",
   "mimetype": "text/x-python",
   "name": "python",
   "nbconvert_exporter": "python",
   "pygments_lexer": "ipython3",
   "version": "3.10.8"
  },
  "orig_nbformat": 4,
  "vscode": {
   "interpreter": {
    "hash": "fb4569285eef3a3450cb62085a5b1e0da4bce0af555edc33dcf29baf3acc1368"
   }
  }
 },
 "nbformat": 4,
 "nbformat_minor": 2
}
